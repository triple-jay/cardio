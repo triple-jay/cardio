{
 "cells": [
  {
   "cell_type": "markdown",
   "metadata": {},
   "source": [
    "# Predicting cardiovascular disease in patients\n",
    "#### Jeremy Jung (jj523) and Andrew Osorio (ao296)"
   ]
  },
  {
   "cell_type": "markdown",
   "metadata": {},
   "source": [
    "# Problem and Hypothesis"
   ]
  },
  {
   "cell_type": "markdown",
   "metadata": {},
   "source": [
    "### Problem"
   ]
  },
  {
   "cell_type": "markdown",
   "metadata": {},
   "source": [
    "Cardiovascular diseases (CVDs) are the number one cause of death around the globe. Annually, more people suffer from CVDs than from any other disease. Although some CVDs are hereditary, most CVDs are not an inevitable part of life and could be prevented by avoiding major daily behaviors that put people in risk, including: substance abuse, obesity, and the lack of physical activity. Most premature deaths (under age of 70) related to CVDs are in low and middle income countries and have a lack of access to the most advanced medical attention. Although we are not doctors, we believe that everyone is entitled to understanding what it takes to live a healthier life. \n",
    "\n",
    "https://www.who.int/news-room/fact-sheets/detail/cardiovascular-diseases-(cvds)\n",
    "\n",
    "We hope that from the datasets we have collected, we can create a model to help people better understand whether or not they are at risk of cardiovascular disease. Furthermore, we hope to answer the question: What major factors contribute to cardiovascular disease?"
   ]
  },
  {
   "cell_type": "markdown",
   "metadata": {},
   "source": [
    "### Hypothesis"
   ]
  },
  {
   "cell_type": "markdown",
   "metadata": {},
   "source": [
    "After looking at the dataset, we predict that the most important feature in determining if a patient is at risk of cardiovascular disease are cholesterol and blood pressure levels. We hope to create a model that accurately predicts if a person has cardiovascular disease from the features in the data. Using classification models including but not limited to logistic regression, the k-nearest neighbor algorithm, and random forests, we believe that we can successfully model if patients are at risk of cardiovascular diseases."
   ]
  },
  {
   "cell_type": "markdown",
   "metadata": {},
   "source": [
    "### Data"
   ]
  },
  {
   "cell_type": "markdown",
   "metadata": {},
   "source": [
    "All data was sourced from https://www.kaggle.com/sulianova/cardiovascular-disease-dataset."
   ]
  },
  {
   "cell_type": "markdown",
   "metadata": {},
   "source": [
    "# Data processing"
   ]
  },
  {
   "cell_type": "code",
   "execution_count": 202,
   "metadata": {},
   "outputs": [],
   "source": [
    "import pandas as pd\n",
    "import numpy as np\n",
    "import matplotlib.pyplot as plt\n",
    "\n",
    "from sklearn.metrics import accuracy_score\n",
    "from sklearn.model_selection import train_test_split\n",
    "\n",
    "cardio = pd.read_csv(\"cardio_train.csv\", sep=\";\")"
   ]
  },
  {
   "cell_type": "code",
   "execution_count": 203,
   "metadata": {
    "scrolled": true
   },
   "outputs": [
    {
     "data": {
      "text/html": [
       "<div>\n",
       "<style scoped>\n",
       "    .dataframe tbody tr th:only-of-type {\n",
       "        vertical-align: middle;\n",
       "    }\n",
       "\n",
       "    .dataframe tbody tr th {\n",
       "        vertical-align: top;\n",
       "    }\n",
       "\n",
       "    .dataframe thead th {\n",
       "        text-align: right;\n",
       "    }\n",
       "</style>\n",
       "<table border=\"1\" class=\"dataframe\">\n",
       "  <thead>\n",
       "    <tr style=\"text-align: right;\">\n",
       "      <th></th>\n",
       "      <th>id</th>\n",
       "      <th>age</th>\n",
       "      <th>gender</th>\n",
       "      <th>height</th>\n",
       "      <th>weight</th>\n",
       "      <th>ap_hi</th>\n",
       "      <th>ap_lo</th>\n",
       "      <th>cholesterol</th>\n",
       "      <th>gluc</th>\n",
       "      <th>smoke</th>\n",
       "      <th>alco</th>\n",
       "      <th>active</th>\n",
       "      <th>cardio</th>\n",
       "    </tr>\n",
       "  </thead>\n",
       "  <tbody>\n",
       "    <tr>\n",
       "      <td>0</td>\n",
       "      <td>0</td>\n",
       "      <td>18393</td>\n",
       "      <td>2</td>\n",
       "      <td>168</td>\n",
       "      <td>62.0</td>\n",
       "      <td>110</td>\n",
       "      <td>80</td>\n",
       "      <td>1</td>\n",
       "      <td>1</td>\n",
       "      <td>0</td>\n",
       "      <td>0</td>\n",
       "      <td>1</td>\n",
       "      <td>0</td>\n",
       "    </tr>\n",
       "    <tr>\n",
       "      <td>1</td>\n",
       "      <td>1</td>\n",
       "      <td>20228</td>\n",
       "      <td>1</td>\n",
       "      <td>156</td>\n",
       "      <td>85.0</td>\n",
       "      <td>140</td>\n",
       "      <td>90</td>\n",
       "      <td>3</td>\n",
       "      <td>1</td>\n",
       "      <td>0</td>\n",
       "      <td>0</td>\n",
       "      <td>1</td>\n",
       "      <td>1</td>\n",
       "    </tr>\n",
       "    <tr>\n",
       "      <td>2</td>\n",
       "      <td>2</td>\n",
       "      <td>18857</td>\n",
       "      <td>1</td>\n",
       "      <td>165</td>\n",
       "      <td>64.0</td>\n",
       "      <td>130</td>\n",
       "      <td>70</td>\n",
       "      <td>3</td>\n",
       "      <td>1</td>\n",
       "      <td>0</td>\n",
       "      <td>0</td>\n",
       "      <td>0</td>\n",
       "      <td>1</td>\n",
       "    </tr>\n",
       "    <tr>\n",
       "      <td>3</td>\n",
       "      <td>3</td>\n",
       "      <td>17623</td>\n",
       "      <td>2</td>\n",
       "      <td>169</td>\n",
       "      <td>82.0</td>\n",
       "      <td>150</td>\n",
       "      <td>100</td>\n",
       "      <td>1</td>\n",
       "      <td>1</td>\n",
       "      <td>0</td>\n",
       "      <td>0</td>\n",
       "      <td>1</td>\n",
       "      <td>1</td>\n",
       "    </tr>\n",
       "    <tr>\n",
       "      <td>4</td>\n",
       "      <td>4</td>\n",
       "      <td>17474</td>\n",
       "      <td>1</td>\n",
       "      <td>156</td>\n",
       "      <td>56.0</td>\n",
       "      <td>100</td>\n",
       "      <td>60</td>\n",
       "      <td>1</td>\n",
       "      <td>1</td>\n",
       "      <td>0</td>\n",
       "      <td>0</td>\n",
       "      <td>0</td>\n",
       "      <td>0</td>\n",
       "    </tr>\n",
       "  </tbody>\n",
       "</table>\n",
       "</div>"
      ],
      "text/plain": [
       "   id    age  gender  height  weight  ap_hi  ap_lo  cholesterol  gluc  smoke  \\\n",
       "0   0  18393       2     168    62.0    110     80            1     1      0   \n",
       "1   1  20228       1     156    85.0    140     90            3     1      0   \n",
       "2   2  18857       1     165    64.0    130     70            3     1      0   \n",
       "3   3  17623       2     169    82.0    150    100            1     1      0   \n",
       "4   4  17474       1     156    56.0    100     60            1     1      0   \n",
       "\n",
       "   alco  active  cardio  \n",
       "0     0       1       0  \n",
       "1     0       1       1  \n",
       "2     0       0       1  \n",
       "3     0       1       1  \n",
       "4     0       0       0  "
      ]
     },
     "execution_count": 203,
     "metadata": {},
     "output_type": "execute_result"
    }
   ],
   "source": [
    "cardio.head()"
   ]
  },
  {
   "cell_type": "markdown",
   "metadata": {},
   "source": [
    "We calculate __BMI__, which is crucial to predicting whether a patient has cardiovascular disease. In order to calculate BMI, we use a formula which utilizes values from the dataset height and weight to better understand a patient’s obesity levels. We store BMI as a new feature to our data."
   ]
  },
  {
   "cell_type": "code",
   "execution_count": 204,
   "metadata": {},
   "outputs": [],
   "source": [
    "# Calculate BMI = weight (kg) / (height (m) ^ 2)\n",
    "cardio[\"bmi\"] = cardio[\"weight\"] / ((cardio[\"height\"] / 100) ** 2)"
   ]
  },
  {
   "cell_type": "markdown",
   "metadata": {},
   "source": [
    "Using our BMI values, we create another feature called __obesity__, which has values from 0-3 based on how obese a person is. The thresholds we chose were taken from https://www.nhlbi.nih.gov/health/educational/lose_wt/BMI/bmicalc.htm."
   ]
  },
  {
   "cell_type": "code",
   "execution_count": 205,
   "metadata": {},
   "outputs": [],
   "source": [
    "# Calculate obesity\n",
    "cardio[\"obesity\"] = 0\n",
    "cardio.loc[cardio[\"bmi\"] < 18.5, \"obesity\"] = 0\n",
    "cardio.loc[(cardio[\"bmi\"] >= 18.5) & (cardio[\"bmi\"] <= 24.9), \"obesity\"] = 1\n",
    "cardio.loc[(cardio[\"bmi\"] >= 25) & (cardio[\"bmi\"] <= 29.9), \"obesity\"] = 2\n",
    "cardio.loc[cardio[\"bmi\"] > 30, \"obesity\"] = 3"
   ]
  },
  {
   "cell_type": "markdown",
   "metadata": {},
   "source": [
    "The blood pressure columns seem to have some errors, as demonstrated below. The highest blood pressure ever recorded is 370/360, and even then, that person's mean blood pressure is 198/175 (source: https://www.ncbi.nlm.nih.gov/pubmed/7741618). As a result, it would make no sense that there are columns with a blood pressure like 906 for systolic blood pressure."
   ]
  },
  {
   "cell_type": "code",
   "execution_count": 206,
   "metadata": {},
   "outputs": [
    {
     "name": "stdout",
     "output_type": "stream",
     "text": [
      "Readings above 200: 100\n"
     ]
    },
    {
     "data": {
      "text/html": [
       "<div>\n",
       "<style scoped>\n",
       "    .dataframe tbody tr th:only-of-type {\n",
       "        vertical-align: middle;\n",
       "    }\n",
       "\n",
       "    .dataframe tbody tr th {\n",
       "        vertical-align: top;\n",
       "    }\n",
       "\n",
       "    .dataframe thead th {\n",
       "        text-align: right;\n",
       "    }\n",
       "</style>\n",
       "<table border=\"1\" class=\"dataframe\">\n",
       "  <thead>\n",
       "    <tr style=\"text-align: right;\">\n",
       "      <th></th>\n",
       "      <th>id</th>\n",
       "      <th>age</th>\n",
       "      <th>gender</th>\n",
       "      <th>height</th>\n",
       "      <th>weight</th>\n",
       "      <th>ap_hi</th>\n",
       "      <th>ap_lo</th>\n",
       "      <th>cholesterol</th>\n",
       "      <th>gluc</th>\n",
       "      <th>smoke</th>\n",
       "      <th>alco</th>\n",
       "      <th>active</th>\n",
       "      <th>cardio</th>\n",
       "      <th>bmi</th>\n",
       "      <th>obesity</th>\n",
       "    </tr>\n",
       "  </thead>\n",
       "  <tbody>\n",
       "    <tr>\n",
       "      <td>1328</td>\n",
       "      <td>1863</td>\n",
       "      <td>21063</td>\n",
       "      <td>2</td>\n",
       "      <td>174</td>\n",
       "      <td>106.0</td>\n",
       "      <td>220</td>\n",
       "      <td>120</td>\n",
       "      <td>3</td>\n",
       "      <td>3</td>\n",
       "      <td>0</td>\n",
       "      <td>0</td>\n",
       "      <td>1</td>\n",
       "      <td>0</td>\n",
       "      <td>35.01123</td>\n",
       "      <td>3</td>\n",
       "    </tr>\n",
       "    <tr>\n",
       "      <td>1876</td>\n",
       "      <td>2654</td>\n",
       "      <td>15116</td>\n",
       "      <td>1</td>\n",
       "      <td>160</td>\n",
       "      <td>60.0</td>\n",
       "      <td>902</td>\n",
       "      <td>60</td>\n",
       "      <td>1</td>\n",
       "      <td>1</td>\n",
       "      <td>0</td>\n",
       "      <td>0</td>\n",
       "      <td>1</td>\n",
       "      <td>0</td>\n",
       "      <td>23.43750</td>\n",
       "      <td>1</td>\n",
       "    </tr>\n",
       "  </tbody>\n",
       "</table>\n",
       "</div>"
      ],
      "text/plain": [
       "        id    age  gender  height  weight  ap_hi  ap_lo  cholesterol  gluc  \\\n",
       "1328  1863  21063       2     174   106.0    220    120            3     3   \n",
       "1876  2654  15116       1     160    60.0    902     60            1     1   \n",
       "\n",
       "      smoke  alco  active  cardio       bmi  obesity  \n",
       "1328      0     0       1       0  35.01123        3  \n",
       "1876      0     0       1       0  23.43750        1  "
      ]
     },
     "execution_count": 206,
     "metadata": {},
     "output_type": "execute_result"
    }
   ],
   "source": [
    "print(\"Readings above 200:\", len(cardio[cardio['ap_hi'] > 200]))\n",
    "cardio[cardio['ap_hi'] > 200].head(2)"
   ]
  },
  {
   "cell_type": "code",
   "execution_count": 207,
   "metadata": {
    "scrolled": false
   },
   "outputs": [
    {
     "name": "stdout",
     "output_type": "stream",
     "text": [
      "Readings above 200: 953\n"
     ]
    },
    {
     "data": {
      "text/html": [
       "<div>\n",
       "<style scoped>\n",
       "    .dataframe tbody tr th:only-of-type {\n",
       "        vertical-align: middle;\n",
       "    }\n",
       "\n",
       "    .dataframe tbody tr th {\n",
       "        vertical-align: top;\n",
       "    }\n",
       "\n",
       "    .dataframe thead th {\n",
       "        text-align: right;\n",
       "    }\n",
       "</style>\n",
       "<table border=\"1\" class=\"dataframe\">\n",
       "  <thead>\n",
       "    <tr style=\"text-align: right;\">\n",
       "      <th></th>\n",
       "      <th>id</th>\n",
       "      <th>age</th>\n",
       "      <th>gender</th>\n",
       "      <th>height</th>\n",
       "      <th>weight</th>\n",
       "      <th>ap_hi</th>\n",
       "      <th>ap_lo</th>\n",
       "      <th>cholesterol</th>\n",
       "      <th>gluc</th>\n",
       "      <th>smoke</th>\n",
       "      <th>alco</th>\n",
       "      <th>active</th>\n",
       "      <th>cardio</th>\n",
       "      <th>bmi</th>\n",
       "      <th>obesity</th>\n",
       "    </tr>\n",
       "  </thead>\n",
       "  <tbody>\n",
       "    <tr>\n",
       "      <td>228</td>\n",
       "      <td>314</td>\n",
       "      <td>17489</td>\n",
       "      <td>2</td>\n",
       "      <td>183</td>\n",
       "      <td>98.0</td>\n",
       "      <td>160</td>\n",
       "      <td>1100</td>\n",
       "      <td>1</td>\n",
       "      <td>2</td>\n",
       "      <td>1</td>\n",
       "      <td>0</td>\n",
       "      <td>1</td>\n",
       "      <td>1</td>\n",
       "      <td>29.263340</td>\n",
       "      <td>2</td>\n",
       "    </tr>\n",
       "    <tr>\n",
       "      <td>241</td>\n",
       "      <td>334</td>\n",
       "      <td>21932</td>\n",
       "      <td>2</td>\n",
       "      <td>157</td>\n",
       "      <td>60.0</td>\n",
       "      <td>160</td>\n",
       "      <td>1000</td>\n",
       "      <td>2</td>\n",
       "      <td>1</td>\n",
       "      <td>0</td>\n",
       "      <td>0</td>\n",
       "      <td>0</td>\n",
       "      <td>1</td>\n",
       "      <td>24.341758</td>\n",
       "      <td>1</td>\n",
       "    </tr>\n",
       "  </tbody>\n",
       "</table>\n",
       "</div>"
      ],
      "text/plain": [
       "      id    age  gender  height  weight  ap_hi  ap_lo  cholesterol  gluc  \\\n",
       "228  314  17489       2     183    98.0    160   1100            1     2   \n",
       "241  334  21932       2     157    60.0    160   1000            2     1   \n",
       "\n",
       "     smoke  alco  active  cardio        bmi  obesity  \n",
       "228      1     0       1       1  29.263340        2  \n",
       "241      0     0       0       1  24.341758        1  "
      ]
     },
     "execution_count": 207,
     "metadata": {},
     "output_type": "execute_result"
    }
   ],
   "source": [
    "print(\"Readings above 200:\", len(cardio[cardio['ap_lo'] > 200]))\n",
    "cardio[cardio['ap_lo'] > 200].head(2)"
   ]
  },
  {
   "cell_type": "code",
   "execution_count": 208,
   "metadata": {
    "scrolled": true
   },
   "outputs": [
    {
     "name": "stdout",
     "output_type": "stream",
     "text": [
      "Readings below 40: 188\n"
     ]
    },
    {
     "data": {
      "text/html": [
       "<div>\n",
       "<style scoped>\n",
       "    .dataframe tbody tr th:only-of-type {\n",
       "        vertical-align: middle;\n",
       "    }\n",
       "\n",
       "    .dataframe tbody tr th {\n",
       "        vertical-align: top;\n",
       "    }\n",
       "\n",
       "    .dataframe thead th {\n",
       "        text-align: right;\n",
       "    }\n",
       "</style>\n",
       "<table border=\"1\" class=\"dataframe\">\n",
       "  <thead>\n",
       "    <tr style=\"text-align: right;\">\n",
       "      <th></th>\n",
       "      <th>id</th>\n",
       "      <th>age</th>\n",
       "      <th>gender</th>\n",
       "      <th>height</th>\n",
       "      <th>weight</th>\n",
       "      <th>ap_hi</th>\n",
       "      <th>ap_lo</th>\n",
       "      <th>cholesterol</th>\n",
       "      <th>gluc</th>\n",
       "      <th>smoke</th>\n",
       "      <th>alco</th>\n",
       "      <th>active</th>\n",
       "      <th>cardio</th>\n",
       "      <th>bmi</th>\n",
       "      <th>obesity</th>\n",
       "    </tr>\n",
       "  </thead>\n",
       "  <tbody>\n",
       "    <tr>\n",
       "      <td>567</td>\n",
       "      <td>815</td>\n",
       "      <td>21281</td>\n",
       "      <td>1</td>\n",
       "      <td>168</td>\n",
       "      <td>78.0</td>\n",
       "      <td>14</td>\n",
       "      <td>90</td>\n",
       "      <td>2</td>\n",
       "      <td>1</td>\n",
       "      <td>0</td>\n",
       "      <td>0</td>\n",
       "      <td>1</td>\n",
       "      <td>1</td>\n",
       "      <td>27.636054</td>\n",
       "      <td>2</td>\n",
       "    </tr>\n",
       "    <tr>\n",
       "      <td>927</td>\n",
       "      <td>1294</td>\n",
       "      <td>21867</td>\n",
       "      <td>2</td>\n",
       "      <td>175</td>\n",
       "      <td>70.0</td>\n",
       "      <td>14</td>\n",
       "      <td>90</td>\n",
       "      <td>3</td>\n",
       "      <td>1</td>\n",
       "      <td>0</td>\n",
       "      <td>0</td>\n",
       "      <td>1</td>\n",
       "      <td>1</td>\n",
       "      <td>22.857143</td>\n",
       "      <td>1</td>\n",
       "    </tr>\n",
       "  </tbody>\n",
       "</table>\n",
       "</div>"
      ],
      "text/plain": [
       "       id    age  gender  height  weight  ap_hi  ap_lo  cholesterol  gluc  \\\n",
       "567   815  21281       1     168    78.0     14     90            2     1   \n",
       "927  1294  21867       2     175    70.0     14     90            3     1   \n",
       "\n",
       "     smoke  alco  active  cardio        bmi  obesity  \n",
       "567      0     0       1       1  27.636054        2  \n",
       "927      0     0       1       1  22.857143        1  "
      ]
     },
     "execution_count": 208,
     "metadata": {},
     "output_type": "execute_result"
    }
   ],
   "source": [
    "print(\"Readings below 40:\", len(cardio[cardio['ap_hi'] < 40]))\n",
    "cardio[cardio['ap_hi'] < 40].head(2)"
   ]
  },
  {
   "cell_type": "code",
   "execution_count": 209,
   "metadata": {},
   "outputs": [
    {
     "name": "stdout",
     "output_type": "stream",
     "text": [
      "Readings below 40: 59\n"
     ]
    },
    {
     "data": {
      "text/html": [
       "<div>\n",
       "<style scoped>\n",
       "    .dataframe tbody tr th:only-of-type {\n",
       "        vertical-align: middle;\n",
       "    }\n",
       "\n",
       "    .dataframe tbody tr th {\n",
       "        vertical-align: top;\n",
       "    }\n",
       "\n",
       "    .dataframe thead th {\n",
       "        text-align: right;\n",
       "    }\n",
       "</style>\n",
       "<table border=\"1\" class=\"dataframe\">\n",
       "  <thead>\n",
       "    <tr style=\"text-align: right;\">\n",
       "      <th></th>\n",
       "      <th>id</th>\n",
       "      <th>age</th>\n",
       "      <th>gender</th>\n",
       "      <th>height</th>\n",
       "      <th>weight</th>\n",
       "      <th>ap_hi</th>\n",
       "      <th>ap_lo</th>\n",
       "      <th>cholesterol</th>\n",
       "      <th>gluc</th>\n",
       "      <th>smoke</th>\n",
       "      <th>alco</th>\n",
       "      <th>active</th>\n",
       "      <th>cardio</th>\n",
       "      <th>bmi</th>\n",
       "      <th>obesity</th>\n",
       "    </tr>\n",
       "  </thead>\n",
       "  <tbody>\n",
       "    <tr>\n",
       "      <td>418</td>\n",
       "      <td>594</td>\n",
       "      <td>16658</td>\n",
       "      <td>1</td>\n",
       "      <td>157</td>\n",
       "      <td>72.0</td>\n",
       "      <td>150</td>\n",
       "      <td>30</td>\n",
       "      <td>1</td>\n",
       "      <td>1</td>\n",
       "      <td>0</td>\n",
       "      <td>0</td>\n",
       "      <td>1</td>\n",
       "      <td>1</td>\n",
       "      <td>29.210110</td>\n",
       "      <td>2</td>\n",
       "    </tr>\n",
       "    <tr>\n",
       "      <td>2014</td>\n",
       "      <td>2845</td>\n",
       "      <td>22712</td>\n",
       "      <td>2</td>\n",
       "      <td>167</td>\n",
       "      <td>59.0</td>\n",
       "      <td>906</td>\n",
       "      <td>0</td>\n",
       "      <td>1</td>\n",
       "      <td>1</td>\n",
       "      <td>0</td>\n",
       "      <td>0</td>\n",
       "      <td>1</td>\n",
       "      <td>0</td>\n",
       "      <td>21.155294</td>\n",
       "      <td>1</td>\n",
       "    </tr>\n",
       "  </tbody>\n",
       "</table>\n",
       "</div>"
      ],
      "text/plain": [
       "        id    age  gender  height  weight  ap_hi  ap_lo  cholesterol  gluc  \\\n",
       "418    594  16658       1     157    72.0    150     30            1     1   \n",
       "2014  2845  22712       2     167    59.0    906      0            1     1   \n",
       "\n",
       "      smoke  alco  active  cardio        bmi  obesity  \n",
       "418       0     0       1       1  29.210110        2  \n",
       "2014      0     0       1       0  21.155294        1  "
      ]
     },
     "execution_count": 209,
     "metadata": {},
     "output_type": "execute_result"
    }
   ],
   "source": [
    "print(\"Readings below 40:\", len(cardio[cardio['ap_lo'] < 40]))\n",
    "cardio[cardio['ap_lo'] < 40].head(2)"
   ]
  },
  {
   "cell_type": "markdown",
   "metadata": {},
   "source": [
    "As a result, we capped the systolic blood pressure and diastolic blood pressure readings at two standard deviations away from the mean from both sides."
   ]
  },
  {
   "cell_type": "code",
   "execution_count": 123,
   "metadata": {},
   "outputs": [
    {
     "name": "stderr",
     "output_type": "stream",
     "text": [
      "/opt/anaconda3/lib/python3.7/site-packages/ipykernel_launcher.py:8: SettingWithCopyWarning: \n",
      "A value is trying to be set on a copy of a slice from a DataFrame\n",
      "\n",
      "See the caveats in the documentation: http://pandas.pydata.org/pandas-docs/stable/user_guide/indexing.html#returning-a-view-versus-a-copy\n",
      "  \n",
      "/opt/anaconda3/lib/python3.7/site-packages/ipykernel_launcher.py:9: SettingWithCopyWarning: \n",
      "A value is trying to be set on a copy of a slice from a DataFrame\n",
      "\n",
      "See the caveats in the documentation: http://pandas.pydata.org/pandas-docs/stable/user_guide/indexing.html#returning-a-view-versus-a-copy\n",
      "  if __name__ == '__main__':\n"
     ]
    }
   ],
   "source": [
    "# Bound rows two standard deviations above the mean\n",
    "upper_bound_hi = cardio['ap_hi'].quantile(.95)\n",
    "upper_bound_lo = cardio['ap_lo'].quantile(.95)\n",
    "lower_bound_hi = cardio['ap_hi'].quantile(.05)\n",
    "lower_bound_lo = cardio['ap_lo'].quantile(.05)\n",
    "\n",
    "\n",
    "cardio['ap_hi'][(cardio['ap_hi'] > upper_bound_hi)] = upper_bound_hi\n",
    "cardio['ap_lo'][(cardio['ap_lo'] > upper_bound_lo)] = upper_bound_lo\n",
    "cardio['ap_hi'][(cardio['ap_hi'] < lower_bound_hi)] = lower_bound_hi\n",
    "cardio['ap_lo'][(cardio['ap_lo'] < lower_bound_lo)] = lower_bound_lo"
   ]
  },
  {
   "cell_type": "markdown",
   "metadata": {},
   "source": [
    "Finally, we create a new feature called __blood pressure__, which is based on systolic and diastolic blood pressure readings. The feature has values from 0-4, which represents how normal your blood pressure is. 0 represents normal blood pressure, while 4 represents a crisis in blood pressure. We found the thresholds at https://www.heart.org/en/health-topics/high-blood-pressure/understanding-blood-pressure-readings."
   ]
  },
  {
   "cell_type": "code",
   "execution_count": 124,
   "metadata": {},
   "outputs": [],
   "source": [
    "# Calculate blood pressure\n",
    "cardio[\"blpr\"] = 0\n",
    "cardio.loc[(cardio[\"ap_hi\"] >= 120) & (cardio[\"ap_hi\"] < 130) & (cardio[\"ap_lo\"] < 80), \"blpr\"] = 1\n",
    "cardio.loc[(cardio[\"ap_hi\"] >= 130) & (cardio[\"ap_hi\"] < 140) & (cardio[\"ap_lo\"] >= 80) & (cardio[\"ap_lo\"] < 90), \"blpr\"] = 2\n",
    "cardio.loc[(cardio[\"ap_hi\"] >= 140) & (cardio[\"ap_hi\"] <= 180) & (cardio[\"ap_lo\"] >= 90) & (cardio[\"ap_lo\"] <= 120), \"blpr\"] = 3\n",
    "cardio.loc[(cardio[\"ap_hi\"] > 180) & (cardio[\"ap_lo\"] > 120), \"blpr\"] = 4"
   ]
  },
  {
   "cell_type": "markdown",
   "metadata": {},
   "source": [
    "# Visualization"
   ]
  },
  {
   "cell_type": "markdown",
   "metadata": {},
   "source": [
    "Before we begin to model our predictions, we feel that it is important to create simple visualizations, just to understand how the data itself looks."
   ]
  },
  {
   "cell_type": "markdown",
   "metadata": {},
   "source": [
    "We create a bar graph to compare the frequency of cardiovascular disease for the three different cholesterol levels in the dataset: 1 = normal, 2 = above normal, and 3 = well-above normal. "
   ]
  },
  {
   "cell_type": "code",
   "execution_count": 200,
   "metadata": {
    "scrolled": true
   },
   "outputs": [
    {
     "data": {
      "image/png": "[encoded data removed]",
      "text/plain": [
       "<Figure size 360x288 with 1 Axes>"
      ]
     },
     "metadata": {},
     "output_type": "display_data"
    }
   ],
   "source": [
    "low_cl_no_cardio = (cardio['cholesterol'] == 1) & (cardio['cardio'] == 0)\n",
    "low_cl_cardio = (cardio['cholesterol'] == 1) & (cardio['cardio'] == 1)\n",
    "\n",
    "med_cl_no_cardio = (cardio['cholesterol'] == 2) & (cardio['cardio'] == 0)\n",
    "med_cl_cardio = (cardio['cholesterol'] == 2) & (cardio['cardio'] == 1)\n",
    "\n",
    "high_cl_no_cardio = (cardio['cholesterol'] == 3) & (cardio['cardio'] == 0)\n",
    "high_cl_cardio = (cardio['cholesterol'] == 3) & (cardio['cardio'] == 1)\n",
    "\n",
    "low_cl = [len(cardio[low_cl_no_cardio]), len(cardio[low_cl_cardio])]\n",
    "med_cl = [len(cardio[med_cl_no_cardio]), len(cardio[med_cl_cardio])]\n",
    "high_cl = [len(cardio[high_cl_no_cardio]), len(cardio[high_cl_cardio])]\n",
    "\n",
    "width = 0.1\n",
    "\n",
    "plt.style.use(['ggplot'])\n",
    "\n",
    "p1 = np.arange(2)\n",
    "p2 = [x+width for x in p1]\n",
    "p3 = [x+width for x in p2]\n",
    "\n",
    "plt.figure(figsize=(5, 4))\n",
    "\n",
    "plt.bar(p1, low_cl, color='salmon', width=width, label='low')\n",
    "plt.bar(p2, med_cl, color='turquoise', width=width, label='medium')\n",
    "plt.bar(p3, high_cl, color='mediumorchid', width=width, label='high')\n",
    "\n",
    "plt.xticks([width, 1+width], [0, 1])\n",
    "plt.legend()\n",
    "\n",
    "plt.xlabel(\"0 = no cardiovascular disease, 1 = cardiovascular disease\")\n",
    "plt.ylabel(\"Number of cases\")\n",
    "plt.title(\"Distribution of cholesterol level and cardiovascular disease\", fontdict={'fontsize': 12})\n",
    "\n",
    "plt.show()"
   ]
  },
  {
   "cell_type": "markdown",
   "metadata": {},
   "source": [
    "Clearly, the visualization here gives evidence for our hypothesis. For people with normal cholesterol, there were more people without cardiovascular disease than there were with cardiovascular disease. For people with cholesterol above normal levels, there were more people with cardiovascular disease than without."
   ]
  },
  {
   "cell_type": "markdown",
   "metadata": {},
   "source": [
    "We can also visualize the distribution of cardiovascular disease among people of different heights and weights, using a scatter plot."
   ]
  },
  {
   "cell_type": "code",
   "execution_count": 193,
   "metadata": {
    "scrolled": true
   },
   "outputs": [
    {
     "data": {
      "image/png": "[encoded data removed]",
      "text/plain": [
       "<Figure size 432x288 with 1 Axes>"
      ]
     },
     "metadata": {},
     "output_type": "display_data"
    }
   ],
   "source": [
    "import matplotlib.patches as mpatches\n",
    "\n",
    "colors=[]\n",
    "\n",
    "for i in range(len(cardio)):\n",
    "    if cardio.loc[i][\"cardio\"] == 1:\n",
    "        colors.append(\"turquoise\")\n",
    "    else:\n",
    "        colors.append(\"salmon\")\n",
    "\n",
    "plt.scatter(cardio[\"height\"], cardio[\"weight\"], c=colors,cmap='Pastel2')\n",
    "\n",
    "plt.style.use(['ggplot'])\n",
    "\n",
    "plt.xlabel(\"Height (cm)\")\n",
    "plt.ylabel(\"Weight (kg)\")\n",
    "\n",
    "salmon = mpatches.Patch(color='salmon', label='No CVD')\n",
    "turquoise = mpatches.Patch(color='turquoise', label='CVD')\n",
    "\n",
    "plt.legend(handles=[salmon, turquoise])\n",
    "\n",
    "plt.title(\"Distribution of cardiovascular disease for different heights and weights\", {\"fontsize\": 12})\n",
    "\n",
    "plt.show()"
   ]
  },
  {
   "cell_type": "markdown",
   "metadata": {},
   "source": [
    "We can see that in general, people with higher weights for a given height appear to have more cases of cardiovascular disease."
   ]
  },
  {
   "cell_type": "markdown",
   "metadata": {},
   "source": [
    "# Training models"
   ]
  },
  {
   "cell_type": "markdown",
   "metadata": {},
   "source": [
    "We will train several machine learning models on the dataset, including:\n",
    "\n",
    "- Decision Tree Classifier\n",
    "- Logistic Regression\n",
    "- KNN\n",
    "- Perceptron\n",
    "- Linear SVC\n",
    "- Random Forest\n",
    "\n",
    "We will let each model train on the same training set (important for comparison), and then we will compare the results to see which algorithms seem to be the best to create an effective model."
   ]
  },
  {
   "cell_type": "code",
   "execution_count": 153,
   "metadata": {},
   "outputs": [],
   "source": [
    "X = cardio.drop(columns=['id', 'cardio'])\n",
    "Y = cardio['cardio']\n",
    "X_train, X_test, Y_train, Y_test = train_test_split(X, Y, test_size = 0.2, random_state = 40)"
   ]
  },
  {
   "cell_type": "code",
   "execution_count": 154,
   "metadata": {
    "scrolled": true
   },
   "outputs": [
    {
     "data": {
      "image/png": "[encoded data removed]",
      "text/plain": [
       "<Figure size 720x360 with 2 Axes>"
      ]
     },
     "metadata": {},
     "output_type": "display_data"
    }
   ],
   "source": [
    "from sklearn.tree import DecisionTreeClassifier\n",
    "dt_score = 0\n",
    "train_score = 0\n",
    "best_depth = 0\n",
    "train_scores = []\n",
    "test_scores = []\n",
    "depths = list(np.arange(1, 100))\n",
    "for k in depths:\n",
    "    model = DecisionTreeClassifier(max_depth=k)\n",
    "    model.fit(X_train, Y_train)\n",
    "    pred_train = model.predict(X_train)\n",
    "    accuracy_train = accuracy_score(Y_train, pred_train)\n",
    "    train_scores.append(accuracy_train)\n",
    "    pred_test = model.predict(X_test)\n",
    "    accuracy_test = accuracy_score(Y_test, pred_test)\n",
    "    test_scores.append(accuracy_test)\n",
    "    if dt_score < accuracy_test:\n",
    "        dt_score = accuracy_test\n",
    "        train_score = accuracy_train\n",
    "        best_depth = k\n",
    "\n",
    "plt.style.use(['ggplot'])\n",
    "\n",
    "plt.subplots(figsize=(10,5))\n",
    "plt.subplots_adjust(wspace=0.5)\n",
    "\n",
    "plt.subplot(121)\n",
    "plt.plot(depths, train_scores)\n",
    "plt.title(\"Training scores\", fontdict={'fontsize': 12})\n",
    "plt.xlabel(\"Depth\")\n",
    "plt.ylabel(\"Accuracy\")\n",
    "\n",
    "plt.subplot(122)\n",
    "plt.plot(depths, test_scores)\n",
    "plt.title(\"Test scores\", fontdict={'fontsize': 12})\n",
    "plt.xlabel(\"Depth\")\n",
    "plt.ylabel(\"Accuracy\")\n",
    "\n",
    "plt.show()"
   ]
  },
  {
   "cell_type": "code",
   "execution_count": 156,
   "metadata": {
    "scrolled": true
   },
   "outputs": [
    {
     "name": "stdout",
     "output_type": "stream",
     "text": [
      "Train Accuracy:  0.7323035714285714\n",
      "Test Accuracy:  0.7334285714285714\n",
      "Best depth:  5\n"
     ]
    }
   ],
   "source": [
    "print(\"Train Accuracy: \", train_score)\n",
    "print(\"Test Accuracy: \", dt_score)\n",
    "print(\"Best depth: \", best_depth)"
   ]
  },
  {
   "cell_type": "code",
   "execution_count": 157,
   "metadata": {
    "scrolled": false
   },
   "outputs": [
    {
     "name": "stdout",
     "output_type": "stream",
     "text": [
      "Train Accuracy:  0.7254464285714286\n",
      "Test Accuracy:  0.7252142857142857\n"
     ]
    }
   ],
   "source": [
    "from sklearn.linear_model import LogisticRegression\n",
    "model = LogisticRegression(solver='liblinear', multi_class='auto')\n",
    "model.fit(X_train, Y_train)\n",
    "lr_train = model.score(X_train, Y_train)\n",
    "lr_score = model.score(X_test, Y_test)\n",
    "print(\"Train Accuracy: \", lr_train)\n",
    "print(\"Test Accuracy: \", lr_score)"
   ]
  },
  {
   "cell_type": "code",
   "execution_count": 158,
   "metadata": {},
   "outputs": [
    {
     "name": "stdout",
     "output_type": "stream",
     "text": [
      "Train Accuracy:  0.7780714285714285\n",
      "Test Accuracy:  0.684\n"
     ]
    }
   ],
   "source": [
    "from sklearn.neighbors import KNeighborsClassifier\n",
    "model = KNeighborsClassifier()\n",
    "model.fit(X_train, Y_train)\n",
    "knn_train = model.score(X_train, Y_train)\n",
    "knn_score = model.score(X_test, Y_test)\n",
    "print(\"Train Accuracy: \", knn_train)\n",
    "print(\"Test Accuracy: \", knn_score)"
   ]
  },
  {
   "cell_type": "code",
   "execution_count": 159,
   "metadata": {},
   "outputs": [
    {
     "name": "stdout",
     "output_type": "stream",
     "text": [
      "Train Accuracy:  0.5738392857142857\n",
      "Test Accuracy:  0.5661428571428572\n"
     ]
    }
   ],
   "source": [
    "from sklearn.linear_model import Perceptron\n",
    "model = Perceptron()\n",
    "model.fit(X_train, Y_train)\n",
    "ptron_train = model.score(X_train, Y_train)\n",
    "ptron_score = model.score(X_test, Y_test)\n",
    "print(\"Train Accuracy: \", ptron_train)\n",
    "print(\"Test Accuracy: \", ptron_score)"
   ]
  },
  {
   "cell_type": "code",
   "execution_count": 160,
   "metadata": {
    "scrolled": true
   },
   "outputs": [
    {
     "data": {
      "image/png": "[encoded data removed]",
      "text/plain": [
       "<Figure size 720x360 with 2 Axes>"
      ]
     },
     "metadata": {},
     "output_type": "display_data"
    }
   ],
   "source": [
    "from sklearn.ensemble import RandomForestClassifier\n",
    "rf_score = 0\n",
    "train_score = 0\n",
    "best_depth = 0\n",
    "train_scores = []\n",
    "test_scores = []\n",
    "depths = list(np.arange(1, 20))\n",
    "for k in depths:\n",
    "    model = RandomForestClassifier(max_depth=k, n_estimators=20)\n",
    "    model.fit(X_train, Y_train)\n",
    "    pred_train = model.predict(X_train)\n",
    "    accuracy_train = accuracy_score(Y_train, pred_train)\n",
    "    train_scores.append(accuracy_train)\n",
    "    pred_test = model.predict(X_test)\n",
    "    accuracy_test = accuracy_score(Y_test, pred_test)\n",
    "    test_scores.append(accuracy_test)\n",
    "    if rf_score < accuracy_test:\n",
    "        rf_score = accuracy_test\n",
    "        train_score = accuracy_train\n",
    "        best_depth = k\n",
    "\n",
    "plt.style.use(['ggplot'])\n",
    "\n",
    "plt.subplots(figsize=(10,5))\n",
    "plt.subplots_adjust(wspace=0.5)\n",
    "\n",
    "plt.subplot(121)\n",
    "plt.plot(depths, train_scores)\n",
    "plt.title(\"Training scores\", fontdict={'fontsize': 12})\n",
    "plt.xlabel(\"Depth\")\n",
    "plt.ylabel(\"Accuracy\")\n",
    "\n",
    "plt.subplot(122)\n",
    "plt.plot(depths, test_scores)\n",
    "plt.title(\"Test scores\", fontdict={'fontsize': 12})\n",
    "plt.xlabel(\"Depth\")\n",
    "plt.ylabel(\"Accuracy\")\n",
    "\n",
    "plt.show()"
   ]
  },
  {
   "cell_type": "code",
   "execution_count": 161,
   "metadata": {
    "scrolled": true
   },
   "outputs": [
    {
     "name": "stdout",
     "output_type": "stream",
     "text": [
      "Train Accuracy:  0.7631964285714286\n",
      "Test Accuracy:  0.7357857142857143\n",
      "Best depth:  11\n"
     ]
    }
   ],
   "source": [
    "print(\"Train Accuracy: \", train_score)\n",
    "print(\"Test Accuracy: \", rf_score)\n",
    "print(\"Best depth: \", best_depth)"
   ]
  },
  {
   "cell_type": "markdown",
   "metadata": {},
   "source": [
    "Now that we have trained and scored all of our models, we can compare the accuracy across the board for the models we picked."
   ]
  },
  {
   "cell_type": "code",
   "execution_count": 162,
   "metadata": {
    "scrolled": false
   },
   "outputs": [
    {
     "data": {
      "text/html": [
       "<div>\n",
       "<style scoped>\n",
       "    .dataframe tbody tr th:only-of-type {\n",
       "        vertical-align: middle;\n",
       "    }\n",
       "\n",
       "    .dataframe tbody tr th {\n",
       "        vertical-align: top;\n",
       "    }\n",
       "\n",
       "    .dataframe thead th {\n",
       "        text-align: right;\n",
       "    }\n",
       "</style>\n",
       "<table border=\"1\" class=\"dataframe\">\n",
       "  <thead>\n",
       "    <tr style=\"text-align: right;\">\n",
       "      <th></th>\n",
       "      <th>Model</th>\n",
       "      <th>Score</th>\n",
       "    </tr>\n",
       "  </thead>\n",
       "  <tbody>\n",
       "    <tr>\n",
       "      <td>0</td>\n",
       "      <td>Random Forest</td>\n",
       "      <td>0.735786</td>\n",
       "    </tr>\n",
       "    <tr>\n",
       "      <td>1</td>\n",
       "      <td>Decision Tree</td>\n",
       "      <td>0.733429</td>\n",
       "    </tr>\n",
       "    <tr>\n",
       "      <td>2</td>\n",
       "      <td>Logistic Regression</td>\n",
       "      <td>0.725214</td>\n",
       "    </tr>\n",
       "    <tr>\n",
       "      <td>3</td>\n",
       "      <td>KNN</td>\n",
       "      <td>0.684000</td>\n",
       "    </tr>\n",
       "    <tr>\n",
       "      <td>4</td>\n",
       "      <td>Perceptron</td>\n",
       "      <td>0.566143</td>\n",
       "    </tr>\n",
       "  </tbody>\n",
       "</table>\n",
       "</div>"
      ],
      "text/plain": [
       "                 Model     Score\n",
       "0        Random Forest  0.735786\n",
       "1        Decision Tree  0.733429\n",
       "2  Logistic Regression  0.725214\n",
       "3                  KNN  0.684000\n",
       "4           Perceptron  0.566143"
      ]
     },
     "execution_count": 162,
     "metadata": {},
     "output_type": "execute_result"
    }
   ],
   "source": [
    "model_data = {'Model': ['Decision Tree', 'Logistic Regression', 'KNN', 'Perceptron', 'Random Forest'],\n",
    "             'Score': [dt_score, lr_score, knn_score, ptron_score, rf_score]}\n",
    "model_results = pd.DataFrame(model_data)\n",
    "model_results.sort_values(by=['Score'], ascending=False).reset_index().drop(columns=['index'])"
   ]
  },
  {
   "cell_type": "markdown",
   "metadata": {},
   "source": [
    "Looking at the scores, it appears that a random forest classifier is the best choice, in terms of accuracy. We perform a cross validation check to confirm that our accuracy score is valid."
   ]
  },
  {
   "cell_type": "code",
   "execution_count": 179,
   "metadata": {},
   "outputs": [
    {
     "name": "stdout",
     "output_type": "stream",
     "text": [
      "Scores:  [0.73392857 0.73571429 0.72696429 0.74357143 0.725      0.73732143\n",
      " 0.72821429 0.73571429 0.72982143 0.73303571]\n",
      "Mean score:  0.7329285714285714\n"
     ]
    }
   ],
   "source": [
    "from sklearn.model_selection import cross_val_score\n",
    "model = RandomForestClassifier(max_depth=11, n_estimators=20)\n",
    "scores = cross_val_score(model, X_train, Y_train, cv=10, scoring=\"accuracy\")\n",
    "print(\"Scores: \", scores)\n",
    "print(\"Mean score: \", scores.mean())"
   ]
  },
  {
   "cell_type": "markdown",
   "metadata": {},
   "source": [
    "# Further optimization"
   ]
  },
  {
   "cell_type": "markdown",
   "metadata": {},
   "source": [
    "We can also use the feature importances aspect of the random forest classifier to look at features that are not as important to the random forest classifier. These features that are of minimal importance to our model could potentially be dropped, as they could potentially contribute instead to creating noise in the data, which can lead to larger variance."
   ]
  },
  {
   "cell_type": "code",
   "execution_count": 166,
   "metadata": {
    "scrolled": true
   },
   "outputs": [
    {
     "data": {
      "image/png": "[encoded data removed]",
      "text/plain": [
       "<Figure size 864x288 with 1 Axes>"
      ]
     },
     "metadata": {},
     "output_type": "display_data"
    }
   ],
   "source": [
    "from sklearn.ensemble import RandomForestClassifier\n",
    "X = cardio.drop(columns=['id', 'cardio'])\n",
    "Y = cardio['cardio']\n",
    "model = RandomForestClassifier(max_depth=11, n_estimators=20)\n",
    "model.fit(X, Y)\n",
    "feature_importances = model.feature_importances_\n",
    "\n",
    "plt.style.use(['ggplot'])\n",
    "plt.figure(figsize=(12, 4))\n",
    "plt.bar(X.columns, feature_importances)\n",
    "plt.title(\"Feature importance\")\n",
    "plt.xlabel(\"Feature\")\n",
    "plt.show()"
   ]
  },
  {
   "cell_type": "markdown",
   "metadata": {},
   "source": [
    "Looking at the feature importances here, we can see that the feature rankings support our hypothesis. Systolic blood pressure was the most important factor for the random forest, and furthermore, the column we created for blood pressure came in second. Diastolic blood pressure and cholesterol were important factors as well. Interestingly, age seems to be an important factor, something we did not mention in our hypothesis.\n",
    "\n",
    "From the feature importance ratings, we can also pick out a few features to drop. We see that gender, smoke, and alcohol all had low feature importances, giving us an indication that these features may just add noise and create variance in the data. "
   ]
  },
  {
   "cell_type": "markdown",
   "metadata": {},
   "source": [
    "We can try running a cross validation on the random forest again, after dropping these columns."
   ]
  },
  {
   "cell_type": "code",
   "execution_count": 178,
   "metadata": {
    "scrolled": true
   },
   "outputs": [
    {
     "name": "stdout",
     "output_type": "stream",
     "text": [
      "Scores:  [0.73410714 0.73214286 0.73089286 0.74839286 0.72446429 0.73464286\n",
      " 0.72625    0.73714286 0.73428571 0.73660714]\n",
      "Mean score:  0.7338928571428571\n"
     ]
    }
   ],
   "source": [
    "X = cardio.drop(columns=['id', 'cardio', 'smoke', 'alco', 'gender'])\n",
    "Y = cardio['cardio']\n",
    "X_train, X_test, Y_train, Y_test = train_test_split(X, Y, test_size = 0.2, random_state = 40)\n",
    "model = RandomForestClassifier(max_depth=11, n_estimators=20)\n",
    "scores = cross_val_score(model, X_train, Y_train, cv=10, scoring=\"accuracy\")\n",
    "print(\"Scores: \", scores)\n",
    "print(\"Mean score: \", scores.mean())"
   ]
  },
  {
   "cell_type": "markdown",
   "metadata": {},
   "source": [
    "Although the gain in accuracy for cross validation is not large by any means, the dropping of columns of minimal importance to the random forest could have contributed to lowering the variance, leading to more consistent results."
   ]
  },
  {
   "cell_type": "markdown",
   "metadata": {},
   "source": [
    "We can also try running a voting classifier using the three machine learning algorithms that we saw created the best models."
   ]
  },
  {
   "cell_type": "code",
   "execution_count": 191,
   "metadata": {},
   "outputs": [
    {
     "name": "stdout",
     "output_type": "stream",
     "text": [
      "Scores:  [0.73303571 0.7375     0.73160714 0.74375    0.72464286 0.73517857\n",
      " 0.72928571 0.73875    0.73214286 0.73928571]\n",
      "Mean score:  0.7345178571428571\n"
     ]
    }
   ],
   "source": [
    "from sklearn.ensemble import VotingClassifier\n",
    "from sklearn.model_selection import cross_val_score\n",
    "model1 = DecisionTreeClassifier(max_depth=5)\n",
    "model2 = RandomForestClassifier(max_depth=11, n_estimators=20)\n",
    "model3 = LogisticRegression(solver='liblinear', multi_class='auto')\n",
    "models = [('dt', model1), ('rf', model2), ('lr', model3)]\n",
    "ensemble = VotingClassifier(models)\n",
    "scores = cross_val_score(ensemble, X_train, Y_train, cv=10, scoring=\"accuracy\")\n",
    "print(\"Scores: \", scores)\n",
    "print(\"Mean score: \", scores.mean())"
   ]
  },
  {
   "cell_type": "markdown",
   "metadata": {},
   "source": [
    "# Conclusion"
   ]
  },
  {
   "cell_type": "markdown",
   "metadata": {},
   "source": [
    "Through working through the dataset, we learned that our hypothesis was supported by the data, but we also learned that age appears to be an important factor as well. \n",
    "\n",
    "Our visualizations and model training support our hypothesis that blood pressure levels and cholesterol are some of the most important factors in determining if a person has cardiovascular disease, and furthermore, we learned that age is also an important factor.\n",
    "\n",
    "When it comes to the building of our model, we believe we were able to reasonably improve our data through feature engineering as well as optimization. Our best machine learning model was the random forest, which performed at an accuracy of approximately 73.3% in cross validation and 73.6% for just the train test split that we chose. Using a voting classifier combining the random forest with two other of our best performing machine learning models, we were also able to raise the accuracy to around 73.5% in cross validation. \n",
    "\n",
    "In the future, we hope to continue to improve on this experiment by finding new ways to engineer new features. We believe we could have improved our score further had we found a more clever way to engineer features. We also hope to improve by learning new machine learning models. Although we chose a small subset of classification models for our analysis, we realize that there are so many other algorithms that we can apply to this model, and we hope through further research we could potentially find one that works even better than the ones we have now. "
   ]
  }
 ],
 "metadata": {
  "kernelspec": {
   "display_name": "Python 3",
   "language": "python",
   "name": "python3"
  },
  "language_info": {
   "codemirror_mode": {
    "name": "ipython",
    "version": 3
   },
   "file_extension": ".py",
   "mimetype": "text/x-python",
   "name": "python",
   "nbconvert_exporter": "python",
   "pygments_lexer": "ipython3",
   "version": "3.7.4"
  }
 },
 "nbformat": 4,
 "nbformat_minor": 2
}
